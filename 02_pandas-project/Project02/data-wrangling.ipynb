{
 "cells": [
  {
   "cell_type": "code",
   "execution_count": 1,
   "metadata": {},
   "outputs": [],
   "source": [
    "#Tasks:\n",
    "#1.import all needed modules\n",
    "#2.load dataset\n",
    "#3. drop unneeded columns\n",
    "#4. change columns names to proper names\n",
    "#5. change M and F in the sex column to Male and Female\n",
    "#6. make Age column proper int \n",
    "#7. make Time column proper time\n",
    "#8. make Date column proper date\n",
    "#9. remove wronge wordings in the Name column\n",
    "#10. switch the \"'\" to \"m\" in the Species column and remove the nan's\n",
    "#11. Droping the rows with nan's in them\n",
    "#12. export file"
   ]
  },
  {
   "cell_type": "code",
   "execution_count": 2,
   "metadata": {},
   "outputs": [],
   "source": [
    "#1. import all needed modules\n",
    "\n",
    "import numpy as np\n",
    "import pandas as pd"
   ]
  },
  {
   "cell_type": "code",
   "execution_count": 3,
   "metadata": {},
   "outputs": [],
   "source": [
    "pd.options.display.max_rows = 999\n",
    "pd.options.display.max_columns = 999"
   ]
  },
  {
   "cell_type": "code",
   "execution_count": 4,
   "metadata": {},
   "outputs": [],
   "source": [
    "#2.load dataset\n",
    "\n",
    "df = pd.read_csv(\"GSAF5.csv\", encoding = \"iso-8859-1\")"
   ]
  },
  {
   "cell_type": "code",
   "execution_count": 6,
   "metadata": {},
   "outputs": [],
   "source": [
    "#3. drop unneeded columns\n",
    "    #droping the year, Unnamed: 22 and Unnamed: 23 columns cos Year columns is contained in the Date column and the Unnamed: 22 and Unnamed: 23 are practically empty.\n",
    "\n",
    "    df = df.drop(columns = [\"Year\", \"Unnamed: 22\", \"Unnamed: 23\", \"href\"])"
   ]
  },
  {
   "cell_type": "code",
   "execution_count": 7,
   "metadata": {},
   "outputs": [],
   "source": [
    "#4. change columns names to proper names\n",
    "\n",
    "df = df.rename(columns={\"pdf\": \"Pdf file name\", \"href formula\": \"Pdf file download link\", \"Sex \": \"Sex\", \"Species \": \"Species\"})"
   ]
  },
  {
   "cell_type": "code",
   "execution_count": 8,
   "metadata": {},
   "outputs": [],
   "source": [
    "df_c = df.copy()"
   ]
  },
  {
   "cell_type": "code",
   "execution_count": 9,
   "metadata": {},
   "outputs": [],
   "source": [
    "#5. change M and F in the sex column to Male and Female\n",
    "\n",
    "df_c.Sex = df_c.Sex.str.replace(\"M\", \"Male\")\n",
    "df_c.Sex = df_c.Sex.str.replace(\"F\", \"Female\")"
   ]
  },
  {
   "cell_type": "code",
   "execution_count": 10,
   "metadata": {},
   "outputs": [],
   "source": [
    "#6. make Age column proper int \n",
    "\n",
    "    #force to numeric type\n",
    "df_c[\"Age\"] = pd.to_numeric(df_c[\"Age\"], errors = \"coerce\")\n",
    "    #replace nan with 0's\n",
    "df_c[\"Age\"] = df_c[\"Age\"].replace(np.nan, 0)\n",
    "    #cast type \"int\" instead of \"int\"\n",
    "df_c[\"Age\"] = df_c[\"Age\"].astype(\"int\", errors = \"ignore\")"
   ]
  },
  {
   "cell_type": "code",
   "execution_count": 26,
   "metadata": {},
   "outputs": [],
   "source": [
    "#7. convert Time to a proper time format\n",
    "\n",
    "    #remove all non-numeric characters\n",
    "df_c[\"Time\"] = df_c[\"Time\"].str.replace(\"^[^\\d]*\", \"\")\n",
    "    #add the \":\"\n",
    "df_c[\"Time\"] = df_c.Time.str.replace(\"h\", \":\")\n",
    "    #replace nan's with 0's\n",
    "df_c[\"Time\"] = df_c[\"Time\"].replace(np.nan, 0)\n",
    "    #cast date time type to the column(not working in this case)\n",
    "df_c[\"Time\"] = df_c[\"Time\"].astype(\"datetime64\", errors = \"ignore\")"
   ]
  },
  {
   "cell_type": "code",
   "execution_count": 14,
   "metadata": {},
   "outputs": [],
   "source": [
    "#8. convert Date to a proper time format\n",
    "    #remove all non-numeric characters\n",
    "df_c[\"Date\"] = df_c[\"Date\"].str.replace(\"^[^\\d]*\", \"\")\n",
    "\n",
    "#Decoding might be an option but it is still not giving us the datetime dtype that we want\n",
    "#df_c[\"Date\"] = df_c[\"Date\"].apply(lambda x: x.decode(\"iso-8859-1\") if isinstance(x, bytes) else x)\n",
    "\n",
    "    #replace nsn's with 0's\n",
    "df_c[\"Date\"] = df_c[\"Date\"].replace(np.nan, 0)\n",
    "    #cast date time type to the column(not working in this case)\n",
    "df_c[\"Date\"] = df_c[\"Date\"].astype(\"datetime64\", errors = \"ignore\")"
   ]
  },
  {
   "cell_type": "code",
   "execution_count": 29,
   "metadata": {},
   "outputs": [],
   "source": [
    "#9. remove wronge wordings in the Name column\n",
    "\n",
    "df_c[\"Name\"] = df_c.Name.replace(\"male\", \"\")\n",
    "df_c[\"Name\"] = df_c.Name.replace(\"Unidentified\", \"\")\n",
    "df_c[\"Name\"] = df_c.Name.replace(\"M�\", \"\")"
   ]
  },
  {
   "cell_type": "code",
   "execution_count": 31,
   "metadata": {},
   "outputs": [],
   "source": [
    "#10. switch the \"'\" to \"m\" in the Species column and remove the nan's\n",
    "\n",
    "df_c[\"Species\"] = df_c.Species.replace(\"'\", \"m\")\n",
    "df_c[\"Species\"] = df_c[\"Species\"].replace(np.nan, 0)"
   ]
  },
  {
   "cell_type": "code",
   "execution_count": 32,
   "metadata": {},
   "outputs": [],
   "source": [
    "#11. Droping the rows with nan's in them.\n",
    "\n",
    "df_c = df_c.dropna()"
   ]
  },
  {
   "cell_type": "code",
   "execution_count": 33,
   "metadata": {},
   "outputs": [],
   "source": [
    "df = df_c"
   ]
  },
  {
   "cell_type": "code",
   "execution_count": 20,
   "metadata": {},
   "outputs": [],
   "source": [
    "#12. export the file to the desired format and save\n",
    "\n",
    "df_c.to_csv(\"cleaner_sharkattack.csv\")\n",
    "df_c.to_pickle(\"cleaner_sharkattack.pkl\")"
   ]
  }
 ],
 "metadata": {
  "kernelspec": {
   "display_name": "Python 3",
   "language": "python",
   "name": "python3"
  },
  "language_info": {
   "codemirror_mode": {
    "name": "ipython",
    "version": 3
   },
   "file_extension": ".py",
   "mimetype": "text/x-python",
   "name": "python",
   "nbconvert_exporter": "python",
   "pygments_lexer": "ipython3",
   "version": "3.7.5"
  }
 },
 "nbformat": 4,
 "nbformat_minor": 4
}
