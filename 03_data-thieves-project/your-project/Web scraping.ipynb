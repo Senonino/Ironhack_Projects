{
 "cells": [
  {
   "cell_type": "code",
   "execution_count": 4,
   "metadata": {},
   "outputs": [],
   "source": [
    "# imports\n",
    "from selenium import webdriver\n",
    "from selenium.webdriver.common.keys import Keys\n",
    "from selenium.webdriver.support.ui import WebDriverWait\n",
    "from bs4 import BeautifulSoup\n",
    "import pandas as pd\n",
    "import re\n",
    "import os"
   ]
  },
  {
   "cell_type": "code",
   "execution_count": 5,
   "metadata": {},
   "outputs": [],
   "source": [
    "# website urls\n",
    "base_url = \"https://www.booking.com/\"\n",
    "berlin_url = \"https://www.booking.com/searchresults.html?label=gen173nr-1DCAEoggI46AdIM1gEaDuIAQGYATG4ARfIAQ_YAQPoAQH4AQKIAgGoAgO4At7gofEFwAIB&sid=94357e896ab3d9d66a8d10caaba0f217&sb=1&sb_lp=1&src=index&src_elem=sb&error_url=https%3A%2F%2Fwww.booking.com%2Findex.html%3Flabel%3Dgen173nr-1DCAEoggI46AdIM1gEaDuIAQGYATG4ARfIAQ_YAQPoAQH4AQKIAgGoAgO4At7gofEFwAIB%3Bsid%3D94357e896ab3d9d66a8d10caaba0f217%3Bsb_price_type%3Dtotal%26%3B&sr_autoscroll=1&ss=Berlin&is_ski_area=0&ssne=Berlin&ssne_untouched=Berlin&dest_id=-1746443&dest_type=city&checkin_year=2020&checkin_month=2&checkin_monthday=1&checkout_year=2020&checkout_month=2&checkout_monthday=8&group_adults=2&group_children=0&no_rooms=1&b_h4u_keep_filters=&from_sf=1\""
   ]
  },
  {
   "cell_type": "raw",
   "metadata": {},
   "source": [
    "# Firefox session\n",
    "driver = webdriver.Firefox()\n",
    "driver.get(berlin_url)\n",
    "driver.implicitly_wait(100)"
   ]
  },
  {
   "cell_type": "code",
   "execution_count": 3,
   "metadata": {},
   "outputs": [
    {
     "ename": "SyntaxError",
     "evalue": "invalid syntax (<ipython-input-3-d9b79c1d8dbf>, line 1)",
     "output_type": "error",
     "traceback": [
      "\u001b[0;36m  File \u001b[0;32m\"<ipython-input-3-d9b79c1d8dbf>\"\u001b[0;36m, line \u001b[0;32m1\u001b[0m\n\u001b[0;31m    browser = webdriver.Chrome(C:\\Program Files (x86)\\Google\\Chrome\\Application=’/chromedriver’, chrome_options=option)\u001b[0m\n\u001b[0m                                ^\u001b[0m\n\u001b[0;31mSyntaxError\u001b[0m\u001b[0;31m:\u001b[0m invalid syntax\n"
     ]
    }
   ],
   "source": [
    "browser = webdriver.Chrome(C:\\Program Files (x86)\\Google\\Chrome\\Application=’/chromedriver’, chrome_options=option)"
   ]
  },
  {
   "cell_type": "code",
   "execution_count": null,
   "metadata": {},
   "outputs": [],
   "source": [
    "url = \"https://www.booking.com/searchresults.html?label=gen173nr-1FCAEoggI46AdIM1gEaDuIAQGYATG4ARfIAQ_YAQHoAQH4AQKIAgGoAgO4AonVofEFwAIB&sid=94357e896ab3d9d66a8d10caaba0f217&sb=1&sb_lp=1&src=index&src_elem=sb&error_url=https%3A%2F%2Fwww.booking.com%2Findex.html%3Flabel%3Dgen173nr-1FCAEoggI46AdIM1gEaDuIAQGYATG4ARfIAQ_YAQHoAQH4AQKIAgGoAgO4AonVofEFwAIB%3Bsid%3D94357e896ab3d9d66a8d10caaba0f217%3Bsb_price_type%3Dtotal%26%3B&sr_autoscroll=1&ss=Berlin%2C+Berlin+Federal+State%2C+Germany&is_ski_area=&checkin_year=2020&checkin_month=2&checkin_monthday=1&checkout_year=2020&checkout_month=2&checkout_monthday=8&group_adults=2&group_children=0&no_rooms=1&b_h4u_keep_filters=&from_sf=1&ss_raw=berlin&ac_position=0&ac_langcode=en&ac_click_type=b&dest_id=-1746443&dest_type=city&iata=BER&place_id_lat=52.516214&place_id_lon=13.376817&search_pageview_id=76496d04d7970220&search_selected=true&search_pageview_id=76496d04d7970220&ac_suggestion_list_length=5&ac_suggestion_theme_list_length=0\""
   ]
  },
  {
   "cell_type": "code",
   "execution_count": null,
   "metadata": {},
   "outputs": [],
   "source": [
    "requests.get(url)"
   ]
  },
  {
   "cell_type": "code",
   "execution_count": null,
   "metadata": {},
   "outputs": [],
   "source": [
    "type(requests.get(url))"
   ]
  },
  {
   "cell_type": "code",
   "execution_count": null,
   "metadata": {},
   "outputs": [],
   "source": [
    "r = requests.get(url)"
   ]
  },
  {
   "cell_type": "code",
   "execution_count": null,
   "metadata": {},
   "outputs": [],
   "source": [
    "r.status_code"
   ]
  },
  {
   "cell_type": "raw",
   "metadata": {},
   "source": [
    "r.headers"
   ]
  },
  {
   "cell_type": "code",
   "execution_count": null,
   "metadata": {},
   "outputs": [],
   "source": [
    "r.text"
   ]
  },
  {
   "cell_type": "code",
   "execution_count": null,
   "metadata": {},
   "outputs": [],
   "source": [
    "r.json"
   ]
  },
  {
   "cell_type": "code",
   "execution_count": null,
   "metadata": {},
   "outputs": [],
   "source": [
    "r.content"
   ]
  },
  {
   "cell_type": "code",
   "execution_count": null,
   "metadata": {},
   "outputs": [],
   "source": [
    "soup = bs4.BeautifulSoup(r.content, \"html.parser\")"
   ]
  },
  {
   "cell_type": "code",
   "execution_count": null,
   "metadata": {},
   "outputs": [],
   "source": [
    "berlin = soup.find(\"div\", class_=\"wrapper\")"
   ]
  },
  {
   "cell_type": "code",
   "execution_count": null,
   "metadata": {},
   "outputs": [],
   "source": [
    "type(berlin)"
   ]
  }
 ],
 "metadata": {
  "kernelspec": {
   "display_name": "Python 3",
   "language": "python",
   "name": "python3"
  },
  "language_info": {
   "codemirror_mode": {
    "name": "ipython",
    "version": 3
   },
   "file_extension": ".py",
   "mimetype": "text/x-python",
   "name": "python",
   "nbconvert_exporter": "python",
   "pygments_lexer": "ipython3",
   "version": "3.7.5"
  }
 },
 "nbformat": 4,
 "nbformat_minor": 4
}
