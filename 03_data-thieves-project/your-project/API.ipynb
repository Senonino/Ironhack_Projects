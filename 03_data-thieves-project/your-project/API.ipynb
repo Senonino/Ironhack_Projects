{
 "cells": [
  {
   "cell_type": "code",
   "execution_count": 1,
   "metadata": {},
   "outputs": [],
   "source": [
    "import pandas as pd\n",
    "import requests\n",
    "import json\n",
    "import matplotlib\n",
    "\n",
    "%matplotlib inline"
   ]
  },
  {
   "cell_type": "code",
   "execution_count": 18,
   "metadata": {
    "scrolled": true
   },
   "outputs": [
    {
     "name": "stdout",
     "output_type": "stream",
     "text": [
      "{\"status\":\"success\",\"content\":{\"retnal_rates\":{\"studio_value\":2285,\"one_room_value\":2595,\"two_room_value\":3390,\"three_room_value\":4400,\"four_room_value\":5500},\"sample_count\":8928,\"detailed\":[{\"state\":\"CA\",\"city\":\"Los Angeles\",\"neighborhood\":null,\"zipcode\":null,\"beds\":\"0\",\"count\":455,\"min\":450,\"max\":25000,\"avg\":2595.3054945054946,\"median\":2285,\"adjusted_rental_income\":2200.455},{\"state\":\"CA\",\"city\":\"Los Angeles\",\"neighborhood\":null,\"zipcode\":null,\"beds\":\"1\",\"count\":1793,\"min\":300,\"max\":11000,\"avg\":2737.4450641383155,\"median\":2595,\"adjusted_rental_income\":2498.985},{\"state\":\"CA\",\"city\":\"Los Angeles\",\"neighborhood\":null,\"zipcode\":null,\"beds\":\"2\",\"count\":3127,\"min\":583,\"max\":45000,\"avg\":3814.314358810361,\"median\":3390,\"adjusted_rental_income\":3264.57},{\"state\":\"CA\",\"city\":\"Los Angeles\",\"neighborhood\":null,\"zipcode\":null,\"beds\":\"3\",\"count\":2453,\"min\":458,\"max\":33000,\"avg\":5128.642070933551,\"median\":4400,\"adjusted_rental_income\":4237.2},{\"state\":\"CA\",\"city\":\"Los Angeles\",\"neighborhood\":null,\"zipcode\":null,\"beds\":\"4\",\"count\":1090,\"min\":750,\"max\":38000,\"avg\":7085.774311926605,\"median\":5500,\"adjusted_rental_income\":5296.5},{\"state\":\"CA\",\"city\":\"Los Angeles\",\"neighborhood\":null,\"zipcode\":null,\"beds\":\"5\",\"count\":9,\"min\":750,\"max\":6750,\"avg\":4642.777777777777,\"median\":5000,\"adjusted_rental_income\":4815},{\"state\":\"CA\",\"city\":\"Los Angeles\",\"neighborhood\":null,\"zipcode\":null,\"beds\":\"9\",\"count\":1,\"min\":1150,\"max\":1150,\"avg\":1150,\"median\":1150,\"adjusted_rental_income\":1107.45}]}}\n"
     ]
    }
   ],
   "source": [
    "url = \"https://mashvisor-api.p.rapidapi.com/rental-rates\"\n",
    "\n",
    "querystring = {\"city\":\"Los Angeles\",\"state\":\"CA\",\"source\":\"traditional\"}\n",
    "\n",
    "headers = {\n",
    "    'x-rapidapi-host': \"mashvisor-api.p.rapidapi.com\",\n",
    "    'x-rapidapi-key': \"078ae1cc26msh27f4ff2b2be5932p15133bjsn61d4733a8c98\"\n",
    "    }\n",
    "\n",
    "response = requests.request(\"GET\", url, headers=headers, params=querystring)\n",
    "\n",
    "print(response.text)"
   ]
  },
  {
   "cell_type": "code",
   "execution_count": 19,
   "metadata": {},
   "outputs": [
    {
     "data": {
      "text/plain": [
       "dict_keys(['status', 'content'])"
      ]
     },
     "execution_count": 19,
     "metadata": {},
     "output_type": "execute_result"
    }
   ],
   "source": [
    "response.json().keys()"
   ]
  },
  {
   "cell_type": "code",
   "execution_count": 22,
   "metadata": {},
   "outputs": [
    {
     "data": {
      "text/plain": [
       "{'retnal_rates': {'studio_value': 2285,\n",
       "  'one_room_value': 2595,\n",
       "  'two_room_value': 3390,\n",
       "  'three_room_value': 4400,\n",
       "  'four_room_value': 5500},\n",
       " 'sample_count': 8928,\n",
       " 'detailed': [{'state': 'CA',\n",
       "   'city': 'Los Angeles',\n",
       "   'neighborhood': None,\n",
       "   'zipcode': None,\n",
       "   'beds': '0',\n",
       "   'count': 455,\n",
       "   'min': 450,\n",
       "   'max': 25000,\n",
       "   'avg': 2595.3054945054946,\n",
       "   'median': 2285,\n",
       "   'adjusted_rental_income': 2200.455},\n",
       "  {'state': 'CA',\n",
       "   'city': 'Los Angeles',\n",
       "   'neighborhood': None,\n",
       "   'zipcode': None,\n",
       "   'beds': '1',\n",
       "   'count': 1793,\n",
       "   'min': 300,\n",
       "   'max': 11000,\n",
       "   'avg': 2737.4450641383155,\n",
       "   'median': 2595,\n",
       "   'adjusted_rental_income': 2498.985},\n",
       "  {'state': 'CA',\n",
       "   'city': 'Los Angeles',\n",
       "   'neighborhood': None,\n",
       "   'zipcode': None,\n",
       "   'beds': '2',\n",
       "   'count': 3127,\n",
       "   'min': 583,\n",
       "   'max': 45000,\n",
       "   'avg': 3814.314358810361,\n",
       "   'median': 3390,\n",
       "   'adjusted_rental_income': 3264.57},\n",
       "  {'state': 'CA',\n",
       "   'city': 'Los Angeles',\n",
       "   'neighborhood': None,\n",
       "   'zipcode': None,\n",
       "   'beds': '3',\n",
       "   'count': 2453,\n",
       "   'min': 458,\n",
       "   'max': 33000,\n",
       "   'avg': 5128.642070933551,\n",
       "   'median': 4400,\n",
       "   'adjusted_rental_income': 4237.2},\n",
       "  {'state': 'CA',\n",
       "   'city': 'Los Angeles',\n",
       "   'neighborhood': None,\n",
       "   'zipcode': None,\n",
       "   'beds': '4',\n",
       "   'count': 1090,\n",
       "   'min': 750,\n",
       "   'max': 38000,\n",
       "   'avg': 7085.774311926605,\n",
       "   'median': 5500,\n",
       "   'adjusted_rental_income': 5296.5},\n",
       "  {'state': 'CA',\n",
       "   'city': 'Los Angeles',\n",
       "   'neighborhood': None,\n",
       "   'zipcode': None,\n",
       "   'beds': '5',\n",
       "   'count': 9,\n",
       "   'min': 750,\n",
       "   'max': 6750,\n",
       "   'avg': 4642.777777777777,\n",
       "   'median': 5000,\n",
       "   'adjusted_rental_income': 4815},\n",
       "  {'state': 'CA',\n",
       "   'city': 'Los Angeles',\n",
       "   'neighborhood': None,\n",
       "   'zipcode': None,\n",
       "   'beds': '9',\n",
       "   'count': 1,\n",
       "   'min': 1150,\n",
       "   'max': 1150,\n",
       "   'avg': 1150,\n",
       "   'median': 1150,\n",
       "   'adjusted_rental_income': 1107.45}]}"
      ]
     },
     "execution_count": 22,
     "metadata": {},
     "output_type": "execute_result"
    }
   ],
   "source": [
    "response.json()[\"content\"]"
   ]
  }
 ],
 "metadata": {
  "kernelspec": {
   "display_name": "Python 3",
   "language": "python",
   "name": "python3"
  },
  "language_info": {
   "codemirror_mode": {
    "name": "ipython",
    "version": 3
   },
   "file_extension": ".py",
   "mimetype": "text/x-python",
   "name": "python",
   "nbconvert_exporter": "python",
   "pygments_lexer": "ipython3",
   "version": "3.7.5"
  }
 },
 "nbformat": 4,
 "nbformat_minor": 4
}
